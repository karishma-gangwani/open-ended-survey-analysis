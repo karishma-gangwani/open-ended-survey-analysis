{
 "cells": [
  {
   "cell_type": "markdown",
   "metadata": {},
   "source": [
    "# Counting tool for Path surveys"
   ]
  },
  {
   "cell_type": "code",
   "execution_count": 3,
   "metadata": {},
   "outputs": [],
   "source": [
    "##Import cvs file and pandas\n",
    "\n",
    "import pandas as pd\n",
    "xls = pd.ExcelFile('CRATE_SURVEY_RESPONSES_OPEN ENDED.xlsx')\n",
    "df = pd.read_excel(xls, 'water_crate_validation Edit (2)')\n",
    "pd.set_option('display.max_colwidth', None)\n",
    "pd.set_option('display.max_rows', None)"
   ]
  },
  {
   "cell_type": "code",
   "execution_count": 4,
   "metadata": {},
   "outputs": [
    {
     "data": {
      "text/html": [
       "<div>\n",
       "<style scoped>\n",
       "    .dataframe tbody tr th:only-of-type {\n",
       "        vertical-align: middle;\n",
       "    }\n",
       "\n",
       "    .dataframe tbody tr th {\n",
       "        vertical-align: top;\n",
       "    }\n",
       "\n",
       "    .dataframe thead th {\n",
       "        text-align: right;\n",
       "    }\n",
       "</style>\n",
       "<table border=\"1\" class=\"dataframe\">\n",
       "  <thead>\n",
       "    <tr style=\"text-align: right;\">\n",
       "      <th></th>\n",
       "      <th>What is your occupation (Identified in data, confirm)</th>\n",
       "      <th>Other?</th>\n",
       "      <th>First</th>\n",
       "      <th>Second</th>\n",
       "      <th>What is the most important factor when specifying an unde...</th>\n",
       "      <th>What other factors are important that were not mentioned?</th>\n",
       "      <th>What is the primary benefit of the system you use today?</th>\n",
       "      <th>What other factors are important that were not mentioned?.1</th>\n",
       "      <th>What is the biggest challenge of the system you use today?</th>\n",
       "      <th>What other factors are important that were not mentioned?.2</th>\n",
       "    </tr>\n",
       "  </thead>\n",
       "  <tbody>\n",
       "    <tr>\n",
       "      <th>0</th>\n",
       "      <td>Contractor</td>\n",
       "      <td>NaN</td>\n",
       "      <td>NaN</td>\n",
       "      <td>NaN</td>\n",
       "      <td>Design Flexibility</td>\n",
       "      <td>NaN</td>\n",
       "      <td>Design support</td>\n",
       "      <td>NaN</td>\n",
       "      <td>Other</td>\n",
       "      <td>Delivery times and cost</td>\n",
       "    </tr>\n",
       "    <tr>\n",
       "      <th>1</th>\n",
       "      <td>Contractor</td>\n",
       "      <td>NaN</td>\n",
       "      <td>ADS</td>\n",
       "      <td>MDS</td>\n",
       "      <td>Footprint (Length &amp; Width)</td>\n",
       "      <td>NaN</td>\n",
       "      <td>Other</td>\n",
       "      <td>Cost and Footprint</td>\n",
       "      <td>Cost</td>\n",
       "      <td>NaN</td>\n",
       "    </tr>\n",
       "    <tr>\n",
       "      <th>2</th>\n",
       "      <td>Contractor</td>\n",
       "      <td>NaN</td>\n",
       "      <td>HDPE</td>\n",
       "      <td>PVC</td>\n",
       "      <td>Other</td>\n",
       "      <td>SPECIFIED BY ENGINEER</td>\n",
       "      <td>Other</td>\n",
       "      <td>THEY ALL PLAY IN TOGETHER.</td>\n",
       "      <td>Other</td>\n",
       "      <td>GETTING THE ENGINEER AND SUPPLIER TOGETHER TO GET THEIR DESIGN CORRECT</td>\n",
       "    </tr>\n",
       "    <tr>\n",
       "      <th>3</th>\n",
       "      <td>Contractor</td>\n",
       "      <td>NaN</td>\n",
       "      <td>Culverts</td>\n",
       "      <td>Silt Fencing</td>\n",
       "      <td>Ease of installation</td>\n",
       "      <td>NaN</td>\n",
       "      <td>Cost</td>\n",
       "      <td>NaN</td>\n",
       "      <td>Delivery times</td>\n",
       "      <td>NaN</td>\n",
       "    </tr>\n",
       "    <tr>\n",
       "      <th>4</th>\n",
       "      <td>Contractor</td>\n",
       "      <td>NaN</td>\n",
       "      <td>Ponds</td>\n",
       "      <td>StormTech</td>\n",
       "      <td>Cost</td>\n",
       "      <td>NaN</td>\n",
       "      <td>Ease of installation</td>\n",
       "      <td>NaN</td>\n",
       "      <td>Other</td>\n",
       "      <td>The ability to get ground water down to the water table.</td>\n",
       "    </tr>\n",
       "    <tr>\n",
       "      <th>5</th>\n",
       "      <td>Contractor</td>\n",
       "      <td>NaN</td>\n",
       "      <td>ADS</td>\n",
       "      <td>NaN</td>\n",
       "      <td>Cost</td>\n",
       "      <td>NaN</td>\n",
       "      <td>Footprint (Length &amp; Width)</td>\n",
       "      <td>NaN</td>\n",
       "      <td>Cost</td>\n",
       "      <td>NaN</td>\n",
       "    </tr>\n",
       "    <tr>\n",
       "      <th>6</th>\n",
       "      <td>Contractor</td>\n",
       "      <td>NaN</td>\n",
       "      <td>French Drain</td>\n",
       "      <td>Catch Basin</td>\n",
       "      <td>Ease of installation</td>\n",
       "      <td>NaN</td>\n",
       "      <td>Cost</td>\n",
       "      <td>NaN</td>\n",
       "      <td>Ease of installation</td>\n",
       "      <td>NaN</td>\n",
       "    </tr>\n",
       "    <tr>\n",
       "      <th>7</th>\n",
       "      <td>Contractor</td>\n",
       "      <td>NaN</td>\n",
       "      <td>STOMR TECH</td>\n",
       "      <td>NaN</td>\n",
       "      <td>Other</td>\n",
       "      <td>THE EGINEER WE BID AND BUIL</td>\n",
       "      <td>Other</td>\n",
       "      <td>I think they are a complete waste of time, they don't really work, people are just trying to find a way to save space and build bigger parking lots.</td>\n",
       "      <td>Cost</td>\n",
       "      <td>NaN</td>\n",
       "    </tr>\n",
       "    <tr>\n",
       "      <th>8</th>\n",
       "      <td>Contractor</td>\n",
       "      <td>NaN</td>\n",
       "      <td>ppe</td>\n",
       "      <td>httpe</td>\n",
       "      <td>Other</td>\n",
       "      <td>Meeting county or state standard inspections and the ease of installation.</td>\n",
       "      <td>Other</td>\n",
       "      <td>Cost and ease of installation verses passing inspection.</td>\n",
       "      <td>Other</td>\n",
       "      <td>Cost and regulations</td>\n",
       "    </tr>\n",
       "    <tr>\n",
       "      <th>9</th>\n",
       "      <td>Contractor</td>\n",
       "      <td>NaN</td>\n",
       "      <td>StormTech</td>\n",
       "      <td>CulTech</td>\n",
       "      <td>Other</td>\n",
       "      <td>It is the availability. There is a resin shortage so PVC is difficult to get. Even when we can get it, it is difficult to get a quote. The pipe supplier can't guarantee pricing until time of shipping so it makes it difficult for us to quote a job to someone.</td>\n",
       "      <td>Design flexibility</td>\n",
       "      <td>NaN</td>\n",
       "      <td>Delivery times</td>\n",
       "      <td>NaN</td>\n",
       "    </tr>\n",
       "  </tbody>\n",
       "</table>\n",
       "</div>"
      ],
      "text/plain": [
       "  What is your occupation (Identified in data, confirm) Other?         First  \\\n",
       "0                                            Contractor    NaN           NaN   \n",
       "1                                            Contractor    NaN           ADS   \n",
       "2                                            Contractor    NaN          HDPE   \n",
       "3                                            Contractor    NaN      Culverts   \n",
       "4                                            Contractor    NaN         Ponds   \n",
       "5                                            Contractor    NaN           ADS   \n",
       "6                                            Contractor    NaN  French Drain   \n",
       "7                                            Contractor    NaN    STOMR TECH   \n",
       "8                                            Contractor    NaN           ppe   \n",
       "9                                            Contractor    NaN     StormTech   \n",
       "\n",
       "         Second What is the most important factor when specifying an unde...  \\\n",
       "0           NaN                                           Design Flexibility   \n",
       "1           MDS                                   Footprint (Length & Width)   \n",
       "2           PVC                                                        Other   \n",
       "3  Silt Fencing                                         Ease of installation   \n",
       "4     StormTech                                                         Cost   \n",
       "5           NaN                                                         Cost   \n",
       "6   Catch Basin                                         Ease of installation   \n",
       "7           NaN                                                        Other   \n",
       "8         httpe                                                        Other   \n",
       "9       CulTech                                                        Other   \n",
       "\n",
       "                                                                                                                                                                                                            What other factors are important that were not mentioned?  \\\n",
       "0                                                                                                                                                                                                                                                                 NaN   \n",
       "1                                                                                                                                                                                                                                                                 NaN   \n",
       "2                                                                                                                                                                                                                                               SPECIFIED BY ENGINEER   \n",
       "3                                                                                                                                                                                                                                                                 NaN   \n",
       "4                                                                                                                                                                                                                                                                 NaN   \n",
       "5                                                                                                                                                                                                                                                                 NaN   \n",
       "6                                                                                                                                                                                                                                                                 NaN   \n",
       "7                                                                                                                                                                                                                                         THE EGINEER WE BID AND BUIL   \n",
       "8                                                                                                                                                                                          Meeting county or state standard inspections and the ease of installation.   \n",
       "9  It is the availability. There is a resin shortage so PVC is difficult to get. Even when we can get it, it is difficult to get a quote. The pipe supplier can't guarantee pricing until time of shipping so it makes it difficult for us to quote a job to someone.   \n",
       "\n",
       "  What is the primary benefit of the system you use today?  \\\n",
       "0                                           Design support   \n",
       "1                                                    Other   \n",
       "2                                                    Other   \n",
       "3                                                     Cost   \n",
       "4                                     Ease of installation   \n",
       "5                               Footprint (Length & Width)   \n",
       "6                                                     Cost   \n",
       "7                                                    Other   \n",
       "8                                                    Other   \n",
       "9                                       Design flexibility   \n",
       "\n",
       "                                                                                            What other factors are important that were not mentioned?.1  \\\n",
       "0                                                                                                                                                   NaN   \n",
       "1                                                                                                                                    Cost and Footprint   \n",
       "2                                                                                                                            THEY ALL PLAY IN TOGETHER.   \n",
       "3                                                                                                                                                   NaN   \n",
       "4                                                                                                                                                   NaN   \n",
       "5                                                                                                                                                   NaN   \n",
       "6                                                                                                                                                   NaN   \n",
       "7  I think they are a complete waste of time, they don't really work, people are just trying to find a way to save space and build bigger parking lots.   \n",
       "8                                                                                              Cost and ease of installation verses passing inspection.   \n",
       "9                                                                                                                                                   NaN   \n",
       "\n",
       "  What is the biggest challenge of the system you use today?  \\\n",
       "0                                                      Other   \n",
       "1                                                       Cost   \n",
       "2                                                      Other   \n",
       "3                                             Delivery times   \n",
       "4                                                      Other   \n",
       "5                                                       Cost   \n",
       "6                                       Ease of installation   \n",
       "7                                                       Cost   \n",
       "8                                                      Other   \n",
       "9                                             Delivery times   \n",
       "\n",
       "              What other factors are important that were not mentioned?.2  \n",
       "0                                                 Delivery times and cost  \n",
       "1                                                                     NaN  \n",
       "2  GETTING THE ENGINEER AND SUPPLIER TOGETHER TO GET THEIR DESIGN CORRECT  \n",
       "3                                                                     NaN  \n",
       "4                The ability to get ground water down to the water table.  \n",
       "5                                                                     NaN  \n",
       "6                                                                     NaN  \n",
       "7                                                                     NaN  \n",
       "8                                                    Cost and regulations  \n",
       "9                                                                     NaN  "
      ]
     },
     "execution_count": 4,
     "metadata": {},
     "output_type": "execute_result"
    }
   ],
   "source": [
    "df.head(10)"
   ]
  },
  {
   "cell_type": "code",
   "execution_count": 5,
   "metadata": {},
   "outputs": [
    {
     "data": {
      "text/plain": [
       "(90, 10)"
      ]
     },
     "execution_count": 5,
     "metadata": {},
     "output_type": "execute_result"
    }
   ],
   "source": [
    "df.shape"
   ]
  },
  {
   "cell_type": "code",
   "execution_count": 18,
   "metadata": {},
   "outputs": [
    {
     "data": {
      "text/plain": [
       "Index(['What is your occupation (Identified in data, confirm)', 'Other?',\n",
       "       'First', 'Second',\n",
       "       'What is the most important factor when specifying an unde...',\n",
       "       'What other factors are important that were not mentioned?',\n",
       "       'What is the primary benefit of the system you use today?',\n",
       "       'What other factors are important that were not mentioned?.1',\n",
       "       'What is the biggest challenge of the system you use today?',\n",
       "       'What other factors are important that were not mentioned?.2'],\n",
       "      dtype='object')"
      ]
     },
     "execution_count": 18,
     "metadata": {},
     "output_type": "execute_result"
    }
   ],
   "source": [
    "df.columns"
   ]
  },
  {
   "cell_type": "code",
   "execution_count": 32,
   "metadata": {
    "scrolled": true
   },
   "outputs": [],
   "source": [
    "df['What is your occupation (Identified in data, confirm)'].value_counts(normalize=True).mul(100).round(1).to_excel(\"Q1.xlsx\")"
   ]
  },
  {
   "cell_type": "code",
   "execution_count": 33,
   "metadata": {},
   "outputs": [],
   "source": [
    "df['Other?'].value_counts().to_excel('Q2.xlsx')"
   ]
  },
  {
   "cell_type": "code",
   "execution_count": 39,
   "metadata": {
    "scrolled": true
   },
   "outputs": [],
   "source": [
    "df['First'].value_counts().to_excel('Q3.xlsx')"
   ]
  },
  {
   "cell_type": "code",
   "execution_count": 38,
   "metadata": {},
   "outputs": [
    {
     "data": {
      "text/plain": [
       "87"
      ]
     },
     "execution_count": 38,
     "metadata": {},
     "output_type": "execute_result"
    }
   ],
   "source": [
    "df['First'].value_counts().sum()"
   ]
  },
  {
   "cell_type": "code",
   "execution_count": 40,
   "metadata": {},
   "outputs": [],
   "source": [
    "df['Second'].value_counts().to_excel('Q4.xlsx')"
   ]
  },
  {
   "cell_type": "code",
   "execution_count": 41,
   "metadata": {},
   "outputs": [
    {
     "data": {
      "text/plain": [
       "66"
      ]
     },
     "execution_count": 41,
     "metadata": {},
     "output_type": "execute_result"
    }
   ],
   "source": [
    "df['Second'].value_counts().sum()"
   ]
  },
  {
   "cell_type": "code",
   "execution_count": 42,
   "metadata": {
    "scrolled": true
   },
   "outputs": [],
   "source": [
    "df['What is the most important factor when specifying an unde...'].value_counts(normalize=True).mul(100).round(1).to_excel('Q5.xlsx')"
   ]
  },
  {
   "cell_type": "code",
   "execution_count": 47,
   "metadata": {},
   "outputs": [
    {
     "data": {
      "text/plain": [
       "90"
      ]
     },
     "execution_count": 47,
     "metadata": {},
     "output_type": "execute_result"
    }
   ],
   "source": [
    "df['What is the most important factor when specifying an unde...'].value_counts().sum()"
   ]
  },
  {
   "cell_type": "code",
   "execution_count": 43,
   "metadata": {
    "scrolled": true
   },
   "outputs": [],
   "source": [
    "df['What other factors are important that were not mentioned?'].value_counts().to_excel('Q6.xlsx')"
   ]
  },
  {
   "cell_type": "code",
   "execution_count": 48,
   "metadata": {},
   "outputs": [
    {
     "data": {
      "text/plain": [
       "32"
      ]
     },
     "execution_count": 48,
     "metadata": {},
     "output_type": "execute_result"
    }
   ],
   "source": [
    "df['What other factors are important that were not mentioned?'].value_counts().sum()"
   ]
  },
  {
   "cell_type": "code",
   "execution_count": 45,
   "metadata": {},
   "outputs": [],
   "source": [
    "df['What is the primary benefit of the system you use today?'].value_counts(normalize=True).mul(100).round(1).to_excel('Q7.xlsx')"
   ]
  },
  {
   "cell_type": "code",
   "execution_count": 46,
   "metadata": {},
   "outputs": [],
   "source": [
    "df['What other factors are important that were not mentioned?.1'].value_counts().to_excel('Q8.xlsx')"
   ]
  },
  {
   "cell_type": "code",
   "execution_count": 49,
   "metadata": {},
   "outputs": [
    {
     "data": {
      "text/plain": [
       "23"
      ]
     },
     "execution_count": 49,
     "metadata": {},
     "output_type": "execute_result"
    }
   ],
   "source": [
    "df['What other factors are important that were not mentioned?.1'].value_counts().sum()"
   ]
  },
  {
   "cell_type": "code",
   "execution_count": 50,
   "metadata": {},
   "outputs": [],
   "source": [
    "df['What is the biggest challenge of the system you use today?'].value_counts(normalize=True).mul(100).round(1).to_excel('Q8.xlsx')"
   ]
  },
  {
   "cell_type": "code",
   "execution_count": 55,
   "metadata": {},
   "outputs": [
    {
     "data": {
      "text/plain": [
       "90"
      ]
     },
     "execution_count": 55,
     "metadata": {},
     "output_type": "execute_result"
    }
   ],
   "source": [
    "df['What is the biggest challenge of the system you use today?'].value_counts().sum()"
   ]
  },
  {
   "cell_type": "code",
   "execution_count": 59,
   "metadata": {},
   "outputs": [],
   "source": [
    "df['What other factors are important that were not mentioned?.2'].value_counts().to_excel('Q9.xlsx')"
   ]
  },
  {
   "cell_type": "code",
   "execution_count": null,
   "metadata": {},
   "outputs": [],
   "source": []
  },
  {
   "cell_type": "code",
   "execution_count": null,
   "metadata": {},
   "outputs": [],
   "source": []
  },
  {
   "cell_type": "code",
   "execution_count": null,
   "metadata": {},
   "outputs": [],
   "source": []
  }
 ],
 "metadata": {
  "kernelspec": {
   "display_name": "Python 3",
   "language": "python",
   "name": "python3"
  },
  "language_info": {
   "codemirror_mode": {
    "name": "ipython",
    "version": 3
   },
   "file_extension": ".py",
   "mimetype": "text/x-python",
   "name": "python",
   "nbconvert_exporter": "python",
   "pygments_lexer": "ipython3",
   "version": "3.8.5"
  }
 },
 "nbformat": 4,
 "nbformat_minor": 4
}
